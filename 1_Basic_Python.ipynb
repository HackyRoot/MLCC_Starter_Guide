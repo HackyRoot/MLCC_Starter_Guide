{
  "nbformat": 4,
  "nbformat_minor": 0,
  "metadata": {
    "colab": {
      "name": "1-Basic_Python.ipynb",
      "version": "0.3.2",
      "provenance": [],
      "toc_visible": true,
      "include_colab_link": true
    },
    "kernelspec": {
      "name": "python3",
      "display_name": "Python 3"
    },
    "accelerator": "GPU"
  },
  "cells": [
    {
      "cell_type": "markdown",
      "metadata": {
        "id": "view-in-github",
        "colab_type": "text"
      },
      "source": [
        "[View in Colaboratory](https://colab.research.google.com/github/HackyRoot/MLCC_Starter_Guide/blob/develop/1_Basic_Python.ipynb)"
      ]
    },
    {
      "metadata": {
        "id": "DNsRWCdt2dMV",
        "colab_type": "text"
      },
      "cell_type": "markdown",
      "source": [
        "# Basic Python"
      ]
    },
    {
      "metadata": {
        "id": "fiFqxbnE2gt-",
        "colab_type": "text"
      },
      "cell_type": "markdown",
      "source": [
        "## Data types"
      ]
    },
    {
      "metadata": {
        "id": "G5CWM4lu2kMM",
        "colab_type": "text"
      },
      "cell_type": "markdown",
      "source": [
        "### Numbers"
      ]
    },
    {
      "metadata": {
        "id": "BW8YlhvZ2U7N",
        "colab_type": "code",
        "colab": {
          "base_uri": "https://localhost:8080/",
          "height": 34
        },
        "outputId": "dec6972f-13a6-409f-9027-fbe908dce0e5"
      },
      "cell_type": "code",
      "source": [
        "1 + 2"
      ],
      "execution_count": 68,
      "outputs": [
        {
          "output_type": "execute_result",
          "data": {
            "text/plain": [
              "3"
            ]
          },
          "metadata": {
            "tags": []
          },
          "execution_count": 68
        }
      ]
    },
    {
      "metadata": {
        "id": "iB95qFOH2o-1",
        "colab_type": "code",
        "colab": {
          "base_uri": "https://localhost:8080/",
          "height": 34
        },
        "outputId": "d6999f85-efba-4a8d-c307-397e66f96a82"
      },
      "cell_type": "code",
      "source": [
        "4 * 3"
      ],
      "execution_count": 69,
      "outputs": [
        {
          "output_type": "execute_result",
          "data": {
            "text/plain": [
              "12"
            ]
          },
          "metadata": {
            "tags": []
          },
          "execution_count": 69
        }
      ]
    },
    {
      "metadata": {
        "id": "s1mJJtj72z4U",
        "colab_type": "text"
      },
      "cell_type": "markdown",
      "source": [
        "### Variable Assignment"
      ]
    },
    {
      "metadata": {
        "id": "iEU_l0E92wWJ",
        "colab_type": "code",
        "colab": {}
      },
      "cell_type": "code",
      "source": [
        "var_name = 5"
      ],
      "execution_count": 0,
      "outputs": []
    },
    {
      "metadata": {
        "id": "6xlu5bOX27yt",
        "colab_type": "code",
        "colab": {}
      },
      "cell_type": "code",
      "source": [
        "x = 1\n",
        "y = 5"
      ],
      "execution_count": 0,
      "outputs": []
    },
    {
      "metadata": {
        "id": "QxzT5jid3AFc",
        "colab_type": "code",
        "colab": {}
      },
      "cell_type": "code",
      "source": [
        "z = x + y"
      ],
      "execution_count": 0,
      "outputs": []
    },
    {
      "metadata": {
        "id": "bLiH-lb73B4M",
        "colab_type": "code",
        "colab": {
          "base_uri": "https://localhost:8080/",
          "height": 34
        },
        "outputId": "f1f16902-ac93-4db5-e098-8f6b1e82eda9"
      },
      "cell_type": "code",
      "source": [
        "z"
      ],
      "execution_count": 15,
      "outputs": [
        {
          "output_type": "execute_result",
          "data": {
            "text/plain": [
              "6"
            ]
          },
          "metadata": {
            "tags": []
          },
          "execution_count": 15
        }
      ]
    },
    {
      "metadata": {
        "id": "ZXs13I2N3LvB",
        "colab_type": "text"
      },
      "cell_type": "markdown",
      "source": [
        "### Strings"
      ]
    },
    {
      "metadata": {
        "id": "zAb43olZ3C88",
        "colab_type": "code",
        "colab": {
          "base_uri": "https://localhost:8080/",
          "height": 34
        },
        "outputId": "a89eb6a8-4435-4124-8cf6-0bf9bf9cd453"
      },
      "cell_type": "code",
      "source": [
        "'Hey There' # single quotes"
      ],
      "execution_count": 16,
      "outputs": [
        {
          "output_type": "execute_result",
          "data": {
            "text/plain": [
              "'Hey There'"
            ]
          },
          "metadata": {
            "tags": []
          },
          "execution_count": 16
        }
      ]
    },
    {
      "metadata": {
        "id": "WJe_0O1o3FqP",
        "colab_type": "code",
        "colab": {
          "base_uri": "https://localhost:8080/",
          "height": 34
        },
        "outputId": "46899dde-1296-4adc-f89b-8285bcc30bba"
      },
      "cell_type": "code",
      "source": [
        "\"I'm using Python!\" # double quotes"
      ],
      "execution_count": 17,
      "outputs": [
        {
          "output_type": "execute_result",
          "data": {
            "text/plain": [
              "\"I'm using Python!\""
            ]
          },
          "metadata": {
            "tags": []
          },
          "execution_count": 17
        }
      ]
    },
    {
      "metadata": {
        "id": "FUXAHChy3e25",
        "colab_type": "text"
      },
      "cell_type": "markdown",
      "source": [
        "### Printing"
      ]
    },
    {
      "metadata": {
        "id": "p9TddEmf3VMd",
        "colab_type": "code",
        "colab": {}
      },
      "cell_type": "code",
      "source": [
        "x = 'hello'"
      ],
      "execution_count": 0,
      "outputs": []
    },
    {
      "metadata": {
        "id": "J9gM9ClC3doX",
        "colab_type": "code",
        "colab": {
          "base_uri": "https://localhost:8080/",
          "height": 34
        },
        "outputId": "cb6097ec-5f79-49db-c6b7-e97f6cb4c6b9"
      },
      "cell_type": "code",
      "source": [
        "x"
      ],
      "execution_count": 19,
      "outputs": [
        {
          "output_type": "execute_result",
          "data": {
            "text/plain": [
              "'hello'"
            ]
          },
          "metadata": {
            "tags": []
          },
          "execution_count": 19
        }
      ]
    },
    {
      "metadata": {
        "id": "vzxQe8mM3l89",
        "colab_type": "code",
        "colab": {
          "base_uri": "https://localhost:8080/",
          "height": 34
        },
        "outputId": "33989622-b80c-4783-a7ee-c82713ea7a81"
      },
      "cell_type": "code",
      "source": [
        "print(x)"
      ],
      "execution_count": 20,
      "outputs": [
        {
          "output_type": "stream",
          "text": [
            "hello\n"
          ],
          "name": "stdout"
        }
      ]
    },
    {
      "metadata": {
        "id": "sVoxA6Z_3nzj",
        "colab_type": "code",
        "colab": {}
      },
      "cell_type": "code",
      "source": [
        "code = 99\n",
        "name = 'Yash'"
      ],
      "execution_count": 0,
      "outputs": []
    },
    {
      "metadata": {
        "id": "B3K_tHcI3r0u",
        "colab_type": "code",
        "colab": {
          "base_uri": "https://localhost:8080/",
          "height": 34
        },
        "outputId": "5b28b425-5ce4-4e2e-8a28-a6b15a2d711d"
      },
      "cell_type": "code",
      "source": [
        "print('My name is {} and my code is {}'.format(name, code))"
      ],
      "execution_count": 22,
      "outputs": [
        {
          "output_type": "stream",
          "text": [
            "My name is Yash and my code is 99\n"
          ],
          "name": "stdout"
        }
      ]
    },
    {
      "metadata": {
        "id": "j0OaNMvu4Ovj",
        "colab_type": "code",
        "colab": {
          "base_uri": "https://localhost:8080/",
          "height": 34
        },
        "outputId": "b696a494-60ca-47ca-f087-16fece59757f"
      },
      "cell_type": "code",
      "source": [
        "print('My name is {one} and my code is {two}'.format(one=name, two=code))"
      ],
      "execution_count": 23,
      "outputs": [
        {
          "output_type": "stream",
          "text": [
            "My name is Yash and my code is 99\n"
          ],
          "name": "stdout"
        }
      ]
    },
    {
      "metadata": {
        "id": "5IlXRHAj4s-E",
        "colab_type": "text"
      },
      "cell_type": "markdown",
      "source": [
        "### Lists"
      ]
    },
    {
      "metadata": {
        "id": "akbZGNb_4bUB",
        "colab_type": "code",
        "colab": {
          "base_uri": "https://localhost:8080/",
          "height": 34
        },
        "outputId": "94d9a3fd-d0c1-496c-e6c3-578194c10f1d"
      },
      "cell_type": "code",
      "source": [
        "[1,2,3]"
      ],
      "execution_count": 24,
      "outputs": [
        {
          "output_type": "execute_result",
          "data": {
            "text/plain": [
              "[1, 2, 3]"
            ]
          },
          "metadata": {
            "tags": []
          },
          "execution_count": 24
        }
      ]
    },
    {
      "metadata": {
        "id": "rxSSVfGu4wgK",
        "colab_type": "code",
        "colab": {
          "base_uri": "https://localhost:8080/",
          "height": 34
        },
        "outputId": "0301ae04-5e96-4c66-d613-419e8678d75c"
      },
      "cell_type": "code",
      "source": [
        "['hi',1,[1,2]]\n"
      ],
      "execution_count": 25,
      "outputs": [
        {
          "output_type": "execute_result",
          "data": {
            "text/plain": [
              "['hi', 1, [1, 2]]"
            ]
          },
          "metadata": {
            "tags": []
          },
          "execution_count": 25
        }
      ]
    },
    {
      "metadata": {
        "id": "97vjsGBn4ypm",
        "colab_type": "code",
        "colab": {}
      },
      "cell_type": "code",
      "source": [
        "my_list = ['a','b','c']"
      ],
      "execution_count": 0,
      "outputs": []
    },
    {
      "metadata": {
        "id": "bTwCeH_141zh",
        "colab_type": "code",
        "colab": {}
      },
      "cell_type": "code",
      "source": [
        "my_list.append('d')"
      ],
      "execution_count": 0,
      "outputs": []
    },
    {
      "metadata": {
        "id": "xS96Xaw4438H",
        "colab_type": "code",
        "colab": {
          "base_uri": "https://localhost:8080/",
          "height": 34
        },
        "outputId": "78c3f2a1-fc11-4584-8872-c179efd442dc"
      },
      "cell_type": "code",
      "source": [
        "my_list"
      ],
      "execution_count": 28,
      "outputs": [
        {
          "output_type": "execute_result",
          "data": {
            "text/plain": [
              "['a', 'b', 'c', 'd']"
            ]
          },
          "metadata": {
            "tags": []
          },
          "execution_count": 28
        }
      ]
    },
    {
      "metadata": {
        "id": "yoz3IfoF45nD",
        "colab_type": "code",
        "colab": {
          "base_uri": "https://localhost:8080/",
          "height": 34
        },
        "outputId": "237916b2-017d-4c91-e7f9-b07c94af7324"
      },
      "cell_type": "code",
      "source": [
        "my_list[0]"
      ],
      "execution_count": 29,
      "outputs": [
        {
          "output_type": "execute_result",
          "data": {
            "text/plain": [
              "'a'"
            ]
          },
          "metadata": {
            "tags": []
          },
          "execution_count": 29
        }
      ]
    },
    {
      "metadata": {
        "id": "9ZfMKDvn47Wl",
        "colab_type": "code",
        "colab": {
          "base_uri": "https://localhost:8080/",
          "height": 34
        },
        "outputId": "9c7a2ed1-d177-4edc-a836-4e38d2b2e7c6"
      },
      "cell_type": "code",
      "source": [
        "my_list[1]"
      ],
      "execution_count": 30,
      "outputs": [
        {
          "output_type": "execute_result",
          "data": {
            "text/plain": [
              "'b'"
            ]
          },
          "metadata": {
            "tags": []
          },
          "execution_count": 30
        }
      ]
    },
    {
      "metadata": {
        "id": "jmYcwhbM48sZ",
        "colab_type": "code",
        "colab": {
          "base_uri": "https://localhost:8080/",
          "height": 34
        },
        "outputId": "85781ecc-7621-4065-c4ff-8909ff99c9c2"
      },
      "cell_type": "code",
      "source": [
        "my_list[1:]"
      ],
      "execution_count": 31,
      "outputs": [
        {
          "output_type": "execute_result",
          "data": {
            "text/plain": [
              "['b', 'c', 'd']"
            ]
          },
          "metadata": {
            "tags": []
          },
          "execution_count": 31
        }
      ]
    },
    {
      "metadata": {
        "id": "nmP4d-c44_E3",
        "colab_type": "code",
        "colab": {
          "base_uri": "https://localhost:8080/",
          "height": 34
        },
        "outputId": "4149bac9-a2b1-45f3-db27-d69c78a3e438"
      },
      "cell_type": "code",
      "source": [
        "my_list[:1]"
      ],
      "execution_count": 32,
      "outputs": [
        {
          "output_type": "execute_result",
          "data": {
            "text/plain": [
              "['a']"
            ]
          },
          "metadata": {
            "tags": []
          },
          "execution_count": 32
        }
      ]
    },
    {
      "metadata": {
        "id": "5KKn22ji5BYT",
        "colab_type": "code",
        "colab": {}
      },
      "cell_type": "code",
      "source": [
        "my_list[0] = 'Yash'"
      ],
      "execution_count": 0,
      "outputs": []
    },
    {
      "metadata": {
        "id": "8uc8Fybx5EzJ",
        "colab_type": "code",
        "colab": {
          "base_uri": "https://localhost:8080/",
          "height": 34
        },
        "outputId": "f424d08b-f82e-42b3-8251-0bf1b887cfc3"
      },
      "cell_type": "code",
      "source": [
        "my_list"
      ],
      "execution_count": 34,
      "outputs": [
        {
          "output_type": "execute_result",
          "data": {
            "text/plain": [
              "['Yash', 'b', 'c', 'd']"
            ]
          },
          "metadata": {
            "tags": []
          },
          "execution_count": 34
        }
      ]
    },
    {
      "metadata": {
        "id": "ij_L9KXR5GPJ",
        "colab_type": "code",
        "colab": {}
      },
      "cell_type": "code",
      "source": [
        "nest = [1,2,3,[4,5,['target']]]"
      ],
      "execution_count": 0,
      "outputs": []
    },
    {
      "metadata": {
        "id": "sGi8sypK5Ihh",
        "colab_type": "code",
        "colab": {
          "base_uri": "https://localhost:8080/",
          "height": 34
        },
        "outputId": "8d67d2b0-e547-40f2-bbc7-c83d3a8ae144"
      },
      "cell_type": "code",
      "source": [
        "nest[3]"
      ],
      "execution_count": 36,
      "outputs": [
        {
          "output_type": "execute_result",
          "data": {
            "text/plain": [
              "[4, 5, ['target']]"
            ]
          },
          "metadata": {
            "tags": []
          },
          "execution_count": 36
        }
      ]
    },
    {
      "metadata": {
        "id": "GC_pAWKH5KNa",
        "colab_type": "code",
        "colab": {
          "base_uri": "https://localhost:8080/",
          "height": 34
        },
        "outputId": "fbd9e014-58db-4ce8-e3d3-79364ae94a86"
      },
      "cell_type": "code",
      "source": [
        "nest[3][2]"
      ],
      "execution_count": 37,
      "outputs": [
        {
          "output_type": "execute_result",
          "data": {
            "text/plain": [
              "['target']"
            ]
          },
          "metadata": {
            "tags": []
          },
          "execution_count": 37
        }
      ]
    },
    {
      "metadata": {
        "id": "4AJCWsVT5NSC",
        "colab_type": "code",
        "colab": {
          "base_uri": "https://localhost:8080/",
          "height": 34
        },
        "outputId": "54c06512-b59a-4fcd-95f8-6829f7bf42eb"
      },
      "cell_type": "code",
      "source": [
        "nest[3][2][0]"
      ],
      "execution_count": 38,
      "outputs": [
        {
          "output_type": "execute_result",
          "data": {
            "text/plain": [
              "'target'"
            ]
          },
          "metadata": {
            "tags": []
          },
          "execution_count": 38
        }
      ]
    },
    {
      "metadata": {
        "id": "SB6PyGdZ5Syc",
        "colab_type": "text"
      },
      "cell_type": "markdown",
      "source": [
        "### Dictionaries"
      ]
    },
    {
      "metadata": {
        "id": "WinNT0Ix5OvS",
        "colab_type": "code",
        "colab": {}
      },
      "cell_type": "code",
      "source": [
        "d = {'key1':'item1','key2':'item2'}"
      ],
      "execution_count": 0,
      "outputs": []
    },
    {
      "metadata": {
        "id": "hOznjvPM5WGv",
        "colab_type": "code",
        "colab": {
          "base_uri": "https://localhost:8080/",
          "height": 34
        },
        "outputId": "ac81810b-234e-444a-a665-1dd3fc5d49c1"
      },
      "cell_type": "code",
      "source": [
        "d"
      ],
      "execution_count": 40,
      "outputs": [
        {
          "output_type": "execute_result",
          "data": {
            "text/plain": [
              "{'key1': 'item1', 'key2': 'item2'}"
            ]
          },
          "metadata": {
            "tags": []
          },
          "execution_count": 40
        }
      ]
    },
    {
      "metadata": {
        "id": "BuTtVkzB5Xtk",
        "colab_type": "code",
        "colab": {
          "base_uri": "https://localhost:8080/",
          "height": 34
        },
        "outputId": "17628ea5-02e3-46d2-9b38-47b9c78832e7"
      },
      "cell_type": "code",
      "source": [
        "d['key1']"
      ],
      "execution_count": 41,
      "outputs": [
        {
          "output_type": "execute_result",
          "data": {
            "text/plain": [
              "'item1'"
            ]
          },
          "metadata": {
            "tags": []
          },
          "execution_count": 41
        }
      ]
    },
    {
      "metadata": {
        "id": "8_BHmGo45eUC",
        "colab_type": "text"
      },
      "cell_type": "markdown",
      "source": [
        "### Booleans"
      ]
    },
    {
      "metadata": {
        "id": "6fa6u9t95ZkY",
        "colab_type": "code",
        "colab": {}
      },
      "cell_type": "code",
      "source": [
        "a = True"
      ],
      "execution_count": 0,
      "outputs": []
    },
    {
      "metadata": {
        "id": "vks1-8nt5cSo",
        "colab_type": "code",
        "colab": {
          "base_uri": "https://localhost:8080/",
          "height": 34
        },
        "outputId": "7c815e52-0c88-465a-9933-18e73bef6dd0"
      },
      "cell_type": "code",
      "source": [
        "a == False"
      ],
      "execution_count": 43,
      "outputs": [
        {
          "output_type": "execute_result",
          "data": {
            "text/plain": [
              "False"
            ]
          },
          "metadata": {
            "tags": []
          },
          "execution_count": 43
        }
      ]
    },
    {
      "metadata": {
        "id": "4_VfftWq5zMc",
        "colab_type": "code",
        "colab": {
          "base_uri": "https://localhost:8080/",
          "height": 34
        },
        "outputId": "1061814d-4ccc-4de7-a720-23b037b83ce4"
      },
      "cell_type": "code",
      "source": [
        "a == True"
      ],
      "execution_count": 44,
      "outputs": [
        {
          "output_type": "execute_result",
          "data": {
            "text/plain": [
              "True"
            ]
          },
          "metadata": {
            "tags": []
          },
          "execution_count": 44
        }
      ]
    },
    {
      "metadata": {
        "id": "Tn0Dpk2e6H23",
        "colab_type": "text"
      },
      "cell_type": "markdown",
      "source": [
        "### Tuples"
      ]
    },
    {
      "metadata": {
        "id": "whA96ytJ6AyS",
        "colab_type": "code",
        "colab": {}
      },
      "cell_type": "code",
      "source": [
        "t = (1,2,3)"
      ],
      "execution_count": 0,
      "outputs": []
    },
    {
      "metadata": {
        "id": "HFpa1Mtd6LBo",
        "colab_type": "code",
        "colab": {
          "base_uri": "https://localhost:8080/",
          "height": 34
        },
        "outputId": "52f6225f-b865-4678-8f9e-3c9a2aedbbc5"
      },
      "cell_type": "code",
      "source": [
        "t[0]"
      ],
      "execution_count": 46,
      "outputs": [
        {
          "output_type": "execute_result",
          "data": {
            "text/plain": [
              "1"
            ]
          },
          "metadata": {
            "tags": []
          },
          "execution_count": 46
        }
      ]
    },
    {
      "metadata": {
        "id": "DgyyEZag6MNe",
        "colab_type": "code",
        "colab": {
          "base_uri": "https://localhost:8080/",
          "height": 167
        },
        "outputId": "52564c7b-976d-4c4a-87d7-afc1dba0e85c"
      },
      "cell_type": "code",
      "source": [
        "t[0] = 'NEW' # tuple is immutable"
      ],
      "execution_count": 47,
      "outputs": [
        {
          "output_type": "error",
          "ename": "TypeError",
          "evalue": "ignored",
          "traceback": [
            "\u001b[0;31m---------------------------------------------------------------------------\u001b[0m",
            "\u001b[0;31mTypeError\u001b[0m                                 Traceback (most recent call last)",
            "\u001b[0;32m<ipython-input-47-80b6b2c14da5>\u001b[0m in \u001b[0;36m<module>\u001b[0;34m()\u001b[0m\n\u001b[0;32m----> 1\u001b[0;31m \u001b[0mt\u001b[0m\u001b[0;34m[\u001b[0m\u001b[0;36m0\u001b[0m\u001b[0;34m]\u001b[0m \u001b[0;34m=\u001b[0m \u001b[0;34m'NEW'\u001b[0m \u001b[0;31m# tuple is immutable\u001b[0m\u001b[0;34m\u001b[0m\u001b[0m\n\u001b[0m",
            "\u001b[0;31mTypeError\u001b[0m: 'tuple' object does not support item assignment"
          ]
        }
      ]
    },
    {
      "metadata": {
        "id": "ezaZ5cZl6Y34",
        "colab_type": "text"
      },
      "cell_type": "markdown",
      "source": [
        "### Sets"
      ]
    },
    {
      "metadata": {
        "id": "g8lqL3IF6OTn",
        "colab_type": "code",
        "colab": {
          "base_uri": "https://localhost:8080/",
          "height": 35
        },
        "outputId": "e6d2189b-e08e-428e-9e19-8f3a63f98b98"
      },
      "cell_type": "code",
      "source": [
        "{1,2,3}"
      ],
      "execution_count": 59,
      "outputs": [
        {
          "output_type": "execute_result",
          "data": {
            "text/plain": [
              "{1, 2, 3}"
            ]
          },
          "metadata": {
            "tags": []
          },
          "execution_count": 59
        }
      ]
    },
    {
      "metadata": {
        "id": "NRQqY00Z6a1S",
        "colab_type": "code",
        "colab": {
          "base_uri": "https://localhost:8080/",
          "height": 35
        },
        "outputId": "3d759c16-fdeb-47bd-d555-328e369fb0f0"
      },
      "cell_type": "code",
      "source": [
        "{1,2,3,1,2,1,2,3,3,3,3,2,2,2,1,1,2}"
      ],
      "execution_count": 60,
      "outputs": [
        {
          "output_type": "execute_result",
          "data": {
            "text/plain": [
              "{1, 2, 3}"
            ]
          },
          "metadata": {
            "tags": []
          },
          "execution_count": 60
        }
      ]
    },
    {
      "metadata": {
        "id": "OoSnNOv26dly",
        "colab_type": "text"
      },
      "cell_type": "markdown",
      "source": [
        "### Comparison Operators"
      ]
    },
    {
      "metadata": {
        "id": "7LTQ6p1h6b3j",
        "colab_type": "code",
        "colab": {
          "base_uri": "https://localhost:8080/",
          "height": 35
        },
        "outputId": "be0d13bf-58f3-4ecd-d21e-7fdf3e613d89"
      },
      "cell_type": "code",
      "source": [
        "1 > 2"
      ],
      "execution_count": 61,
      "outputs": [
        {
          "output_type": "execute_result",
          "data": {
            "text/plain": [
              "False"
            ]
          },
          "metadata": {
            "tags": []
          },
          "execution_count": 61
        }
      ]
    },
    {
      "metadata": {
        "id": "HwuKFV9p6h8m",
        "colab_type": "code",
        "colab": {
          "base_uri": "https://localhost:8080/",
          "height": 35
        },
        "outputId": "1fd8b3e7-d458-45c6-f089-1804768b9dcc"
      },
      "cell_type": "code",
      "source": [
        "1 < 2"
      ],
      "execution_count": 62,
      "outputs": [
        {
          "output_type": "execute_result",
          "data": {
            "text/plain": [
              "True"
            ]
          },
          "metadata": {
            "tags": []
          },
          "execution_count": 62
        }
      ]
    },
    {
      "metadata": {
        "id": "Nlbab_Dh6jBp",
        "colab_type": "code",
        "colab": {
          "base_uri": "https://localhost:8080/",
          "height": 35
        },
        "outputId": "c16080be-3367-4852-a8ab-314eb046e73e"
      },
      "cell_type": "code",
      "source": [
        "'hi' == 'bye'"
      ],
      "execution_count": 63,
      "outputs": [
        {
          "output_type": "execute_result",
          "data": {
            "text/plain": [
              "False"
            ]
          },
          "metadata": {
            "tags": []
          },
          "execution_count": 63
        }
      ]
    },
    {
      "metadata": {
        "id": "uQKQhJkf6mIA",
        "colab_type": "code",
        "colab": {
          "base_uri": "https://localhost:8080/",
          "height": 35
        },
        "outputId": "f2030171-75cc-400a-c859-7abb7d4ffdaa"
      },
      "cell_type": "code",
      "source": [
        "'hi' == 'hi'"
      ],
      "execution_count": 64,
      "outputs": [
        {
          "output_type": "execute_result",
          "data": {
            "text/plain": [
              "True"
            ]
          },
          "metadata": {
            "tags": []
          },
          "execution_count": 64
        }
      ]
    },
    {
      "metadata": {
        "id": "MTsTvmyc6sGE",
        "colab_type": "text"
      },
      "cell_type": "markdown",
      "source": [
        "### Logic Operators"
      ]
    },
    {
      "metadata": {
        "id": "2lGfHXAE6o2S",
        "colab_type": "code",
        "colab": {
          "base_uri": "https://localhost:8080/",
          "height": 35
        },
        "outputId": "a098f069-0a7b-43f8-96d7-ee17156f9628"
      },
      "cell_type": "code",
      "source": [
        "(1 > 2) and (2 < 3)"
      ],
      "execution_count": 65,
      "outputs": [
        {
          "output_type": "execute_result",
          "data": {
            "text/plain": [
              "False"
            ]
          },
          "metadata": {
            "tags": []
          },
          "execution_count": 65
        }
      ]
    },
    {
      "metadata": {
        "id": "09CkE1qh6vWM",
        "colab_type": "code",
        "colab": {
          "base_uri": "https://localhost:8080/",
          "height": 35
        },
        "outputId": "0f883574-76f5-41c4-ac73-0f18f4a4576b"
      },
      "cell_type": "code",
      "source": [
        "(1 > 2) or (2 < 3)"
      ],
      "execution_count": 66,
      "outputs": [
        {
          "output_type": "execute_result",
          "data": {
            "text/plain": [
              "True"
            ]
          },
          "metadata": {
            "tags": []
          },
          "execution_count": 66
        }
      ]
    },
    {
      "metadata": {
        "id": "w4oiqTap6xCN",
        "colab_type": "code",
        "colab": {
          "base_uri": "https://localhost:8080/",
          "height": 35
        },
        "outputId": "945986c2-df31-45dd-a122-dee8e91c7c6c"
      },
      "cell_type": "code",
      "source": [
        "(1 == 2) or (2 == 3) or (4 == 4)"
      ],
      "execution_count": 67,
      "outputs": [
        {
          "output_type": "execute_result",
          "data": {
            "text/plain": [
              "True"
            ]
          },
          "metadata": {
            "tags": []
          },
          "execution_count": 67
        }
      ]
    },
    {
      "metadata": {
        "id": "JQFE5swa61wa",
        "colab_type": "text"
      },
      "cell_type": "markdown",
      "source": [
        "## Conditions"
      ]
    },
    {
      "metadata": {
        "id": "rPqx0A-C7LJk",
        "colab_type": "text"
      },
      "cell_type": "markdown",
      "source": [
        "### if statement"
      ]
    },
    {
      "metadata": {
        "id": "ZE-dL8qM6zsH",
        "colab_type": "code",
        "colab": {
          "base_uri": "https://localhost:8080/",
          "height": 35
        },
        "outputId": "2d108b46-0780-4d75-8e8f-ae3ef40755a7"
      },
      "cell_type": "code",
      "source": [
        "if 1 < 2:\n",
        "    print('Yep!')"
      ],
      "execution_count": 69,
      "outputs": [
        {
          "output_type": "stream",
          "text": [
            "Yep!\n"
          ],
          "name": "stdout"
        }
      ]
    },
    {
      "metadata": {
        "id": "RzHN-ByZ7Q-m",
        "colab_type": "code",
        "colab": {}
      },
      "cell_type": "code",
      "source": [
        "if 1 > 2:\n",
        "    print('yep!')"
      ],
      "execution_count": 0,
      "outputs": []
    },
    {
      "metadata": {
        "id": "Hf0ozL3J9YRQ",
        "colab_type": "code",
        "colab": {
          "base_uri": "https://localhost:8080/",
          "height": 34
        },
        "outputId": "026f060d-9335-4b71-d442-761e48b6c1bc"
      },
      "cell_type": "code",
      "source": [
        "attr = ['larry', 'curly', 'moe']\n",
        "if 'curly' in attr:\n",
        "  print ('Yay')"
      ],
      "execution_count": 8,
      "outputs": [
        {
          "output_type": "stream",
          "text": [
            "Yay\n"
          ],
          "name": "stdout"
        }
      ]
    },
    {
      "metadata": {
        "id": "c6AxCHy27YPA",
        "colab_type": "text"
      },
      "cell_type": "markdown",
      "source": [
        "### if...else statement"
      ]
    },
    {
      "metadata": {
        "id": "RUZpllLv7WmZ",
        "colab_type": "code",
        "colab": {
          "base_uri": "https://localhost:8080/",
          "height": 35
        },
        "outputId": "0051b312-72d6-441d-9270-8d0ebf4e22e1"
      },
      "cell_type": "code",
      "source": [
        "if 1 < 2:\n",
        "    print('first')\n",
        "else:\n",
        "    print('last')"
      ],
      "execution_count": 71,
      "outputs": [
        {
          "output_type": "stream",
          "text": [
            "first\n"
          ],
          "name": "stdout"
        }
      ]
    },
    {
      "metadata": {
        "id": "dlgfA--V7etY",
        "colab_type": "code",
        "colab": {
          "base_uri": "https://localhost:8080/",
          "height": 35
        },
        "outputId": "c71fffba-9780-43f9-b7bc-0bd6f66db897"
      },
      "cell_type": "code",
      "source": [
        "if 1 > 2:\n",
        "    print('first')\n",
        "else:\n",
        "    print('last')"
      ],
      "execution_count": 72,
      "outputs": [
        {
          "output_type": "stream",
          "text": [
            "last\n"
          ],
          "name": "stdout"
        }
      ]
    },
    {
      "metadata": {
        "id": "NnzpPWfM7lRF",
        "colab_type": "text"
      },
      "cell_type": "markdown",
      "source": [
        "### if...else...elif statement"
      ]
    },
    {
      "metadata": {
        "id": "CkEyXxnO7ivK",
        "colab_type": "code",
        "colab": {
          "base_uri": "https://localhost:8080/",
          "height": 35
        },
        "outputId": "bebfe545-45a8-4253-e735-0db8e03391cf"
      },
      "cell_type": "code",
      "source": [
        "if 1 == 2:\n",
        "    print('first')\n",
        "    \n",
        "elif 3 == 3:\n",
        "    print('middle')\n",
        "    \n",
        "else:\n",
        "    print('Last')"
      ],
      "execution_count": 74,
      "outputs": [
        {
          "output_type": "stream",
          "text": [
            "middle\n"
          ],
          "name": "stdout"
        }
      ]
    },
    {
      "metadata": {
        "id": "HoCoPly67v9e",
        "colab_type": "text"
      },
      "cell_type": "markdown",
      "source": [
        "## Loops"
      ]
    },
    {
      "metadata": {
        "id": "JfOHwO7q70iR",
        "colab_type": "text"
      },
      "cell_type": "markdown",
      "source": [
        "### For loop"
      ]
    },
    {
      "metadata": {
        "id": "3YCD50be7y45",
        "colab_type": "code",
        "colab": {}
      },
      "cell_type": "code",
      "source": [
        "seq = [1,2,3,4,5]"
      ],
      "execution_count": 0,
      "outputs": []
    },
    {
      "metadata": {
        "id": "JlS8IsHh73qw",
        "colab_type": "code",
        "colab": {
          "base_uri": "https://localhost:8080/",
          "height": 107
        },
        "outputId": "70a2353f-f800-476e-d322-9c1f72452de4"
      },
      "cell_type": "code",
      "source": [
        "for item in seq:\n",
        "    print(item)"
      ],
      "execution_count": 76,
      "outputs": [
        {
          "output_type": "stream",
          "text": [
            "1\n",
            "2\n",
            "3\n",
            "4\n",
            "5\n"
          ],
          "name": "stdout"
        }
      ]
    },
    {
      "metadata": {
        "id": "hdDYvzFC75Ug",
        "colab_type": "code",
        "colab": {
          "base_uri": "https://localhost:8080/",
          "height": 107
        },
        "outputId": "1b641701-b4cf-4649-9aac-85b887e18169"
      },
      "cell_type": "code",
      "source": [
        "for item in seq:\n",
        "    print('Yep')"
      ],
      "execution_count": 77,
      "outputs": [
        {
          "output_type": "stream",
          "text": [
            "Yep\n",
            "Yep\n",
            "Yep\n",
            "Yep\n",
            "Yep\n"
          ],
          "name": "stdout"
        }
      ]
    },
    {
      "metadata": {
        "id": "jio0SxZa77Py",
        "colab_type": "code",
        "colab": {
          "base_uri": "https://localhost:8080/",
          "height": 107
        },
        "outputId": "a22952c3-7bf9-47ae-edd6-70adcc7a3acb"
      },
      "cell_type": "code",
      "source": [
        "countries = \"USA,India,China,Canada,UK\"\n",
        "\n",
        "for country in countries.split(','):\n",
        "  print(country)"
      ],
      "execution_count": 86,
      "outputs": [
        {
          "output_type": "stream",
          "text": [
            "USA\n",
            "India\n",
            "China\n",
            "Canada\n",
            "UK\n"
          ],
          "name": "stdout"
        }
      ]
    },
    {
      "metadata": {
        "id": "kmW6C-E49IN_",
        "colab_type": "text"
      },
      "cell_type": "markdown",
      "source": [
        "### While loop"
      ]
    },
    {
      "metadata": {
        "id": "QV25CZ6Z79dE",
        "colab_type": "code",
        "colab": {
          "base_uri": "https://localhost:8080/",
          "height": 89
        },
        "outputId": "bbd1051e-3fbe-457f-c140-44bc1a823713"
      },
      "cell_type": "code",
      "source": [
        "i = 1\n",
        "while i < 5:\n",
        "    print('i is: {}'.format(i))\n",
        "    i = i+1"
      ],
      "execution_count": 90,
      "outputs": [
        {
          "output_type": "stream",
          "text": [
            "i is: 1\n",
            "i is: 2\n",
            "i is: 3\n",
            "i is: 4\n"
          ],
          "name": "stdout"
        }
      ]
    },
    {
      "metadata": {
        "id": "Ttoh0TJI_DuL",
        "colab_type": "text"
      },
      "cell_type": "markdown",
      "source": [
        "## More Python"
      ]
    },
    {
      "metadata": {
        "id": "yNwkW9tTADT2",
        "colab_type": "text"
      },
      "cell_type": "markdown",
      "source": [
        "### range() function"
      ]
    },
    {
      "metadata": {
        "id": "dFfmcHMQ9L5R",
        "colab_type": "code",
        "colab": {
          "base_uri": "https://localhost:8080/",
          "height": 34
        },
        "outputId": "c040fdd6-a112-4cbf-c18e-3a76b4c65431"
      },
      "cell_type": "code",
      "source": [
        "range(5)"
      ],
      "execution_count": 96,
      "outputs": [
        {
          "output_type": "execute_result",
          "data": {
            "text/plain": [
              "range(0, 5)"
            ]
          },
          "metadata": {
            "tags": []
          },
          "execution_count": 96
        }
      ]
    },
    {
      "metadata": {
        "id": "oStMPWpNALWD",
        "colab_type": "code",
        "colab": {
          "base_uri": "https://localhost:8080/",
          "height": 104
        },
        "outputId": "2238c632-8209-460e-f18f-9908f4098242"
      },
      "cell_type": "code",
      "source": [
        "for i in range(5):\n",
        "    print(i)"
      ],
      "execution_count": 97,
      "outputs": [
        {
          "output_type": "stream",
          "text": [
            "0\n",
            "1\n",
            "2\n",
            "3\n",
            "4\n"
          ],
          "name": "stdout"
        }
      ]
    },
    {
      "metadata": {
        "id": "-CJIxSCcANip",
        "colab_type": "code",
        "colab": {
          "base_uri": "https://localhost:8080/",
          "height": 191
        },
        "outputId": "2f74478f-6c0f-4be1-93b2-c5836a26e63b"
      },
      "cell_type": "code",
      "source": [
        "for i in range(0, 10):\n",
        "    print(i)"
      ],
      "execution_count": 103,
      "outputs": [
        {
          "output_type": "stream",
          "text": [
            "0\n",
            "1\n",
            "2\n",
            "3\n",
            "4\n",
            "5\n",
            "6\n",
            "7\n",
            "8\n",
            "9\n"
          ],
          "name": "stdout"
        }
      ]
    },
    {
      "metadata": {
        "id": "LPYoIakFAPPB",
        "colab_type": "code",
        "colab": {
          "base_uri": "https://localhost:8080/",
          "height": 104
        },
        "outputId": "ecbe4d15-5552-4ce4-ef8b-3c9cdab3eb8d"
      },
      "cell_type": "code",
      "source": [
        "for i in range(0,10,2):\n",
        "    print(i)"
      ],
      "execution_count": 105,
      "outputs": [
        {
          "output_type": "stream",
          "text": [
            "0\n",
            "2\n",
            "4\n",
            "6\n",
            "8\n"
          ],
          "name": "stdout"
        }
      ]
    },
    {
      "metadata": {
        "id": "w8llrVvUBBig",
        "colab_type": "text"
      },
      "cell_type": "markdown",
      "source": [
        "### list comprehension"
      ]
    },
    {
      "metadata": {
        "id": "Xw0tYo5YA9aW",
        "colab_type": "code",
        "colab": {}
      },
      "cell_type": "code",
      "source": [
        "x = [1,2,3,4]"
      ],
      "execution_count": 0,
      "outputs": []
    },
    {
      "metadata": {
        "id": "Mq5SjlDtBFFK",
        "colab_type": "code",
        "colab": {
          "base_uri": "https://localhost:8080/",
          "height": 34
        },
        "outputId": "14320d77-fa80-4cb3-edfc-f3d5984d4c6d"
      },
      "cell_type": "code",
      "source": [
        "out = []\n",
        "\n",
        "for item in x:\n",
        "  out.append(item**2)\n",
        "\n",
        "print(out)"
      ],
      "execution_count": 110,
      "outputs": [
        {
          "output_type": "stream",
          "text": [
            "[1, 4, 9, 16]\n"
          ],
          "name": "stdout"
        }
      ]
    },
    {
      "metadata": {
        "id": "TxSTGeWSBIxe",
        "colab_type": "code",
        "colab": {
          "base_uri": "https://localhost:8080/",
          "height": 34
        },
        "outputId": "d4cf1163-596c-4867-f756-ccf920f17fea"
      },
      "cell_type": "code",
      "source": [
        "[item**2 for item in x]"
      ],
      "execution_count": 111,
      "outputs": [
        {
          "output_type": "execute_result",
          "data": {
            "text/plain": [
              "[1, 4, 9, 16]"
            ]
          },
          "metadata": {
            "tags": []
          },
          "execution_count": 111
        }
      ]
    },
    {
      "metadata": {
        "id": "6-tB6Fd-BVq4",
        "colab_type": "text"
      },
      "cell_type": "markdown",
      "source": [
        "### functions"
      ]
    },
    {
      "metadata": {
        "id": "tzy4PAFHBTVT",
        "colab_type": "code",
        "colab": {}
      },
      "cell_type": "code",
      "source": [
        "def my_func(param1='default'):\n",
        "    \"\"\"\n",
        "    Docstring goes here.\n",
        "    \"\"\"\n",
        "    print(param1)"
      ],
      "execution_count": 0,
      "outputs": []
    },
    {
      "metadata": {
        "id": "zMv4gU2kBZ6O",
        "colab_type": "code",
        "colab": {
          "base_uri": "https://localhost:8080/",
          "height": 34
        },
        "outputId": "a49a3e73-4e11-4da5-98c5-f8c19506c592"
      },
      "cell_type": "code",
      "source": [
        "my_func"
      ],
      "execution_count": 113,
      "outputs": [
        {
          "output_type": "execute_result",
          "data": {
            "text/plain": [
              "<function __main__.my_func>"
            ]
          },
          "metadata": {
            "tags": []
          },
          "execution_count": 113
        }
      ]
    },
    {
      "metadata": {
        "id": "VP1rX1jVBbl-",
        "colab_type": "code",
        "colab": {
          "base_uri": "https://localhost:8080/",
          "height": 34
        },
        "outputId": "94abede3-a0ef-4127-df68-beb30c5d0d01"
      },
      "cell_type": "code",
      "source": [
        "my_func()"
      ],
      "execution_count": 114,
      "outputs": [
        {
          "output_type": "stream",
          "text": [
            "default\n"
          ],
          "name": "stdout"
        }
      ]
    },
    {
      "metadata": {
        "id": "JAlwqInIBdgi",
        "colab_type": "code",
        "colab": {
          "base_uri": "https://localhost:8080/",
          "height": 34
        },
        "outputId": "363f0dd4-42df-46a4-ba2a-b72b8e0a98d7"
      },
      "cell_type": "code",
      "source": [
        "my_func('new param')"
      ],
      "execution_count": 115,
      "outputs": [
        {
          "output_type": "stream",
          "text": [
            "new param\n"
          ],
          "name": "stdout"
        }
      ]
    },
    {
      "metadata": {
        "id": "-U-D0IdjBhgm",
        "colab_type": "code",
        "colab": {
          "base_uri": "https://localhost:8080/",
          "height": 34
        },
        "outputId": "4a2a0fc9-4a25-4d6d-a47a-c70bb6c453e4"
      },
      "cell_type": "code",
      "source": [
        "my_func(param1='totally new param')"
      ],
      "execution_count": 117,
      "outputs": [
        {
          "output_type": "stream",
          "text": [
            "totally new param\n"
          ],
          "name": "stdout"
        }
      ]
    },
    {
      "metadata": {
        "id": "lYNqQ4SYBvYK",
        "colab_type": "code",
        "colab": {}
      },
      "cell_type": "code",
      "source": [
        "def square(x):\n",
        "    return x**2"
      ],
      "execution_count": 0,
      "outputs": []
    },
    {
      "metadata": {
        "id": "HkC6ln2-B47f",
        "colab_type": "code",
        "colab": {
          "base_uri": "https://localhost:8080/",
          "height": 34
        },
        "outputId": "3a996cb2-f9bc-4ecb-881f-a71046525977"
      },
      "cell_type": "code",
      "source": [
        "square(2)"
      ],
      "execution_count": 120,
      "outputs": [
        {
          "output_type": "execute_result",
          "data": {
            "text/plain": [
              "4"
            ]
          },
          "metadata": {
            "tags": []
          },
          "execution_count": 120
        }
      ]
    },
    {
      "metadata": {
        "id": "ATnOzSi4CBrL",
        "colab_type": "text"
      },
      "cell_type": "markdown",
      "source": [
        "### lambda expressions"
      ]
    },
    {
      "metadata": {
        "id": "lZT-xPt3B73d",
        "colab_type": "code",
        "colab": {}
      },
      "cell_type": "code",
      "source": [
        "def times2(var):\n",
        "    return var*2"
      ],
      "execution_count": 0,
      "outputs": []
    },
    {
      "metadata": {
        "id": "l8JXcWOUCFB-",
        "colab_type": "code",
        "colab": {
          "base_uri": "https://localhost:8080/",
          "height": 34
        },
        "outputId": "18f457ae-90dd-4bea-b8cd-45e97c8aeedc"
      },
      "cell_type": "code",
      "source": [
        "times2(2)"
      ],
      "execution_count": 2,
      "outputs": [
        {
          "output_type": "execute_result",
          "data": {
            "text/plain": [
              "4"
            ]
          },
          "metadata": {
            "tags": []
          },
          "execution_count": 2
        }
      ]
    },
    {
      "metadata": {
        "id": "xdJj0JDyCGbq",
        "colab_type": "code",
        "colab": {
          "base_uri": "https://localhost:8080/",
          "height": 34
        },
        "outputId": "27148a75-db05-4fc3-d794-74eb22feb4d6"
      },
      "cell_type": "code",
      "source": [
        "lambda var: var*2"
      ],
      "execution_count": 3,
      "outputs": [
        {
          "output_type": "execute_result",
          "data": {
            "text/plain": [
              "<function __main__.<lambda>>"
            ]
          },
          "metadata": {
            "tags": []
          },
          "execution_count": 3
        }
      ]
    },
    {
      "metadata": {
        "id": "WkoFTDVECghK",
        "colab_type": "text"
      },
      "cell_type": "markdown",
      "source": [
        "###map and filter"
      ]
    },
    {
      "metadata": {
        "id": "kIAgqzLOELeq",
        "colab_type": "text"
      },
      "cell_type": "markdown",
      "source": [
        "![alt text](https://i.redditmedia.com/u9-PgDOTelaF0DegOH6ax2QSZgw-XdcT27rGdpr_V5M.jpg?fit=crop&crop=faces%2Centropy&arh=2&w=960&s=a9aab85b46ad1528e8e139a4d6fbda17)"
      ]
    },
    {
      "metadata": {
        "id": "3fEZHcdTCI4i",
        "colab_type": "code",
        "colab": {}
      },
      "cell_type": "code",
      "source": [
        "seq = [1,2,3,4,5]"
      ],
      "execution_count": 0,
      "outputs": []
    },
    {
      "metadata": {
        "id": "dQgDAqeWEX_x",
        "colab_type": "code",
        "colab": {
          "base_uri": "https://localhost:8080/",
          "height": 34
        },
        "outputId": "a8bf8dca-ae23-4d8b-b099-b44b90dd77be"
      },
      "cell_type": "code",
      "source": [
        "map(times2,seq)"
      ],
      "execution_count": 5,
      "outputs": [
        {
          "output_type": "execute_result",
          "data": {
            "text/plain": [
              "<map at 0x7f53b87ecac8>"
            ]
          },
          "metadata": {
            "tags": []
          },
          "execution_count": 5
        }
      ]
    },
    {
      "metadata": {
        "id": "0PY9cnKuEalM",
        "colab_type": "code",
        "colab": {
          "base_uri": "https://localhost:8080/",
          "height": 34
        },
        "outputId": "62b27ff4-b297-46c8-df93-6cf9181086d1"
      },
      "cell_type": "code",
      "source": [
        "list(map(times2,seq))"
      ],
      "execution_count": 7,
      "outputs": [
        {
          "output_type": "execute_result",
          "data": {
            "text/plain": [
              "[2, 4, 6, 8, 10]"
            ]
          },
          "metadata": {
            "tags": []
          },
          "execution_count": 7
        }
      ]
    },
    {
      "metadata": {
        "id": "FgIen4WgEb4r",
        "colab_type": "code",
        "colab": {
          "base_uri": "https://localhost:8080/",
          "height": 34
        },
        "outputId": "aeed8ac8-013a-47af-8f3d-aaa06b7e98c6"
      },
      "cell_type": "code",
      "source": [
        "list(map(lambda var: var*2,seq))"
      ],
      "execution_count": 9,
      "outputs": [
        {
          "output_type": "execute_result",
          "data": {
            "text/plain": [
              "[2, 4, 6, 8, 10]"
            ]
          },
          "metadata": {
            "tags": []
          },
          "execution_count": 9
        }
      ]
    },
    {
      "metadata": {
        "id": "TFSFfya1EdYM",
        "colab_type": "code",
        "colab": {
          "base_uri": "https://localhost:8080/",
          "height": 34
        },
        "outputId": "d43e5307-6c9c-41c7-9436-68108e903e87"
      },
      "cell_type": "code",
      "source": [
        "filter(lambda item: item%2 == 0,seq)"
      ],
      "execution_count": 48,
      "outputs": [
        {
          "output_type": "execute_result",
          "data": {
            "text/plain": [
              "<filter at 0x7f53b7f21d30>"
            ]
          },
          "metadata": {
            "tags": []
          },
          "execution_count": 48
        }
      ]
    },
    {
      "metadata": {
        "id": "Y9rJh8s5Ga5K",
        "colab_type": "code",
        "colab": {
          "base_uri": "https://localhost:8080/",
          "height": 34
        },
        "outputId": "44d12844-d163-4555-bbda-b8c234c834a5"
      },
      "cell_type": "code",
      "source": [
        "list(filter(lambda item: item%2 == 0,seq))"
      ],
      "execution_count": 49,
      "outputs": [
        {
          "output_type": "execute_result",
          "data": {
            "text/plain": [
              "[2, 4]"
            ]
          },
          "metadata": {
            "tags": []
          },
          "execution_count": 49
        }
      ]
    },
    {
      "metadata": {
        "id": "Gnhjh8bcGpi0",
        "colab_type": "text"
      },
      "cell_type": "markdown",
      "source": [
        "### Methods"
      ]
    },
    {
      "metadata": {
        "id": "mgqNyLqHGmYL",
        "colab_type": "code",
        "colab": {}
      },
      "cell_type": "code",
      "source": [
        "st = 'hello my name is Sam'"
      ],
      "execution_count": 0,
      "outputs": []
    },
    {
      "metadata": {
        "id": "Q1MpXkDKG0Io",
        "colab_type": "code",
        "colab": {
          "base_uri": "https://localhost:8080/",
          "height": 34
        },
        "outputId": "ce008780-4098-42bf-d7e2-59ec3936feb7"
      },
      "cell_type": "code",
      "source": [
        "st.lower()"
      ],
      "execution_count": 51,
      "outputs": [
        {
          "output_type": "execute_result",
          "data": {
            "text/plain": [
              "'hello my name is sam'"
            ]
          },
          "metadata": {
            "tags": []
          },
          "execution_count": 51
        }
      ]
    },
    {
      "metadata": {
        "id": "6c5Wq4hRG5VY",
        "colab_type": "code",
        "colab": {
          "base_uri": "https://localhost:8080/",
          "height": 34
        },
        "outputId": "381d35d6-e11e-4209-9c4f-85ed38c0bade"
      },
      "cell_type": "code",
      "source": [
        "st.upper()"
      ],
      "execution_count": 52,
      "outputs": [
        {
          "output_type": "execute_result",
          "data": {
            "text/plain": [
              "'HELLO MY NAME IS SAM'"
            ]
          },
          "metadata": {
            "tags": []
          },
          "execution_count": 52
        }
      ]
    },
    {
      "metadata": {
        "id": "rMYtZHloG9ux",
        "colab_type": "code",
        "colab": {
          "base_uri": "https://localhost:8080/",
          "height": 34
        },
        "outputId": "793686f4-30cf-44a8-c247-98c5affb5974"
      },
      "cell_type": "code",
      "source": [
        "st.split()"
      ],
      "execution_count": 53,
      "outputs": [
        {
          "output_type": "execute_result",
          "data": {
            "text/plain": [
              "['hello', 'my', 'name', 'is', 'Sam']"
            ]
          },
          "metadata": {
            "tags": []
          },
          "execution_count": 53
        }
      ]
    },
    {
      "metadata": {
        "id": "6Y3iFDEqHATy",
        "colab_type": "code",
        "colab": {}
      },
      "cell_type": "code",
      "source": [
        "tweet = 'Go Sports! #Sports'"
      ],
      "execution_count": 0,
      "outputs": []
    },
    {
      "metadata": {
        "id": "dTqhXCU9HEAH",
        "colab_type": "code",
        "colab": {
          "base_uri": "https://localhost:8080/",
          "height": 34
        },
        "outputId": "2460d777-698e-4284-a264-7936169674c5"
      },
      "cell_type": "code",
      "source": [
        "tweet.split('#')"
      ],
      "execution_count": 55,
      "outputs": [
        {
          "output_type": "execute_result",
          "data": {
            "text/plain": [
              "['Go Sports! ', 'Sports']"
            ]
          },
          "metadata": {
            "tags": []
          },
          "execution_count": 55
        }
      ]
    },
    {
      "metadata": {
        "id": "cTzaRYqmHJkD",
        "colab_type": "code",
        "colab": {
          "base_uri": "https://localhost:8080/",
          "height": 34
        },
        "outputId": "c825cbe4-4495-446b-a427-dddd4cd3316b"
      },
      "cell_type": "code",
      "source": [
        "tweet.split('#')[1]"
      ],
      "execution_count": 58,
      "outputs": [
        {
          "output_type": "execute_result",
          "data": {
            "text/plain": [
              "'Sports'"
            ]
          },
          "metadata": {
            "tags": []
          },
          "execution_count": 58
        }
      ]
    },
    {
      "metadata": {
        "id": "DkqWJekHHOMu",
        "colab_type": "code",
        "colab": {
          "base_uri": "https://localhost:8080/",
          "height": 34
        },
        "outputId": "ade609fe-ee53-4a2b-d3ce-c4f208b3ac09"
      },
      "cell_type": "code",
      "source": [
        "d"
      ],
      "execution_count": 59,
      "outputs": [
        {
          "output_type": "execute_result",
          "data": {
            "text/plain": [
              "{'key1': 'item1', 'key2': 'item2'}"
            ]
          },
          "metadata": {
            "tags": []
          },
          "execution_count": 59
        }
      ]
    },
    {
      "metadata": {
        "id": "ZQBceDOYHbX6",
        "colab_type": "code",
        "colab": {
          "base_uri": "https://localhost:8080/",
          "height": 34
        },
        "outputId": "332f78ea-6f6b-47f9-925f-e612f1d70e2f"
      },
      "cell_type": "code",
      "source": [
        "d.keys()"
      ],
      "execution_count": 60,
      "outputs": [
        {
          "output_type": "execute_result",
          "data": {
            "text/plain": [
              "dict_keys(['key1', 'key2'])"
            ]
          },
          "metadata": {
            "tags": []
          },
          "execution_count": 60
        }
      ]
    },
    {
      "metadata": {
        "id": "IuriVOx8HdzW",
        "colab_type": "code",
        "colab": {
          "base_uri": "https://localhost:8080/",
          "height": 34
        },
        "outputId": "51f1232b-8121-4ae7-dcc8-59f0e4e17953"
      },
      "cell_type": "code",
      "source": [
        "d.items()"
      ],
      "execution_count": 61,
      "outputs": [
        {
          "output_type": "execute_result",
          "data": {
            "text/plain": [
              "dict_items([('key1', 'item1'), ('key2', 'item2')])"
            ]
          },
          "metadata": {
            "tags": []
          },
          "execution_count": 61
        }
      ]
    },
    {
      "metadata": {
        "id": "cOSP4EJoHoUD",
        "colab_type": "code",
        "colab": {}
      },
      "cell_type": "code",
      "source": [
        "lst = [1,2,3]"
      ],
      "execution_count": 0,
      "outputs": []
    },
    {
      "metadata": {
        "id": "Cu0KJRXuHqji",
        "colab_type": "code",
        "colab": {
          "base_uri": "https://localhost:8080/",
          "height": 34
        },
        "outputId": "17e053b1-ad35-4d41-e0ec-06431a9e97c6"
      },
      "cell_type": "code",
      "source": [
        "lst.pop()"
      ],
      "execution_count": 64,
      "outputs": [
        {
          "output_type": "execute_result",
          "data": {
            "text/plain": [
              "3"
            ]
          },
          "metadata": {
            "tags": []
          },
          "execution_count": 64
        }
      ]
    },
    {
      "metadata": {
        "id": "3xIZwjgtHtcX",
        "colab_type": "code",
        "colab": {
          "base_uri": "https://localhost:8080/",
          "height": 34
        },
        "outputId": "de623085-af76-48e6-b2f0-565cab157250"
      },
      "cell_type": "code",
      "source": [
        "lst"
      ],
      "execution_count": 65,
      "outputs": [
        {
          "output_type": "execute_result",
          "data": {
            "text/plain": [
              "[1, 2]"
            ]
          },
          "metadata": {
            "tags": []
          },
          "execution_count": 65
        }
      ]
    },
    {
      "metadata": {
        "id": "kaRcL_epH0Ql",
        "colab_type": "code",
        "colab": {
          "base_uri": "https://localhost:8080/",
          "height": 34
        },
        "outputId": "91aa8892-0e12-46bb-b1dd-3e697ddb0756"
      },
      "cell_type": "code",
      "source": [
        "'x' in [1,2,3]"
      ],
      "execution_count": 66,
      "outputs": [
        {
          "output_type": "execute_result",
          "data": {
            "text/plain": [
              "False"
            ]
          },
          "metadata": {
            "tags": []
          },
          "execution_count": 66
        }
      ]
    },
    {
      "metadata": {
        "id": "_0VwoX94H_HP",
        "colab_type": "code",
        "colab": {
          "base_uri": "https://localhost:8080/",
          "height": 34
        },
        "outputId": "840b5166-670b-483a-dc15-2f2d640ed968"
      },
      "cell_type": "code",
      "source": [
        "'x' in ['x','y','z']"
      ],
      "execution_count": 67,
      "outputs": [
        {
          "output_type": "execute_result",
          "data": {
            "text/plain": [
              "True"
            ]
          },
          "metadata": {
            "tags": []
          },
          "execution_count": 67
        }
      ]
    },
    {
      "metadata": {
        "id": "_Limhh_aIHc0",
        "colab_type": "text"
      },
      "cell_type": "markdown",
      "source": [
        "# Great Job !"
      ]
    }
  ]
}